{
  "metadata": {
    "kernelspec": {
      "language": "python",
      "display_name": "Python 3",
      "name": "python3"
    },
    "language_info": {
      "name": "python",
      "version": "3.10.13",
      "mimetype": "text/x-python",
      "codemirror_mode": {
        "name": "ipython",
        "version": 3
      },
      "pygments_lexer": "ipython3",
      "nbconvert_exporter": "python",
      "file_extension": ".py"
    },
    "kaggle": {
      "accelerator": "none",
      "dataSources": [
        {
          "sourceId": 98217,
          "sourceType": "datasetVersion",
          "datasetId": 52463
        }
      ],
      "dockerImageVersionId": 30684,
      "isInternetEnabled": true,
      "language": "python",
      "sourceType": "notebook",
      "isGpuEnabled": false
    },
    "colab": {
      "name": "NY Taxi Fare Notebook",
      "provenance": []
    }
  },
  "nbformat_minor": 0,
  "nbformat": 4,
  "cells": [
    {
      "source": [
        "\n",
        "# IMPORTANT: RUN THIS CELL IN ORDER TO IMPORT YOUR KAGGLE DATA SOURCES\n",
        "# TO THE CORRECT LOCATION (/kaggle/input) IN YOUR NOTEBOOK,\n",
        "# THEN FEEL FREE TO DELETE THIS CELL.\n",
        "# NOTE: THIS NOTEBOOK ENVIRONMENT DIFFERS FROM KAGGLE'S PYTHON\n",
        "# ENVIRONMENT SO THERE MAY BE MISSING LIBRARIES USED BY YOUR\n",
        "# NOTEBOOK.\n",
        "\n",
        "import os\n",
        "import sys\n",
        "from tempfile import NamedTemporaryFile\n",
        "from urllib.request import urlopen\n",
        "from urllib.parse import unquote, urlparse\n",
        "from urllib.error import HTTPError\n",
        "from zipfile import ZipFile\n",
        "import tarfile\n",
        "import shutil\n",
        "\n",
        "CHUNK_SIZE = 40960\n",
        "DATA_SOURCE_MAPPING = 'new-york-city-taxi-fare-prediction:https%3A%2F%2Fstorage.googleapis.com%2Fkaggle-data-sets%2F52463%2F98217%2Fbundle%2Farchive.zip%3FX-Goog-Algorithm%3DGOOG4-RSA-SHA256%26X-Goog-Credential%3Dgcp-kaggle-com%2540kaggle-161607.iam.gserviceaccount.com%252F20240513%252Fauto%252Fstorage%252Fgoog4_request%26X-Goog-Date%3D20240513T024457Z%26X-Goog-Expires%3D259200%26X-Goog-SignedHeaders%3Dhost%26X-Goog-Signature%3D85dc6a71387f243cf6ed50a735242d85b831df6339bc70f18f2832c5bd7933c7de9edbcea41d2805496c9a535af432420f2de8015b1dc1835aad3db36cec1b98784c34fe3893f8d01c18e6a90b05ec9f8af177ed67b1a4b6c2db3d8be59cccccd6466490d5e14d522bade79ec1a3a73ed9046d20e38c29fc7a070933338db1e7240fa038e5edfe4446a1059a344b7ecfd3b52b3b7d2431cb5bfda9e2f4ab3b0b38078ac6c7253983bc12e2bee19284b935de6e7ff2c90221030058026bcaf53db238ca9e699c80b59b46787b3abe9636e55b0a6dcf600cd9818730cbf6121c5c1075b59ef95cab70e1cd826e4c962915a54c982869def40a6565b311aab6cb24'\n",
        "\n",
        "KAGGLE_INPUT_PATH='/kaggle/input'\n",
        "KAGGLE_WORKING_PATH='/kaggle/working'\n",
        "KAGGLE_SYMLINK='kaggle'\n",
        "\n",
        "!umount /kaggle/input/ 2> /dev/null\n",
        "shutil.rmtree('/kaggle/input', ignore_errors=True)\n",
        "os.makedirs(KAGGLE_INPUT_PATH, 0o777, exist_ok=True)\n",
        "os.makedirs(KAGGLE_WORKING_PATH, 0o777, exist_ok=True)\n",
        "\n",
        "try:\n",
        "  os.symlink(KAGGLE_INPUT_PATH, os.path.join(\"..\", 'input'), target_is_directory=True)\n",
        "except FileExistsError:\n",
        "  pass\n",
        "try:\n",
        "  os.symlink(KAGGLE_WORKING_PATH, os.path.join(\"..\", 'working'), target_is_directory=True)\n",
        "except FileExistsError:\n",
        "  pass\n",
        "\n",
        "for data_source_mapping in DATA_SOURCE_MAPPING.split(','):\n",
        "    directory, download_url_encoded = data_source_mapping.split(':')\n",
        "    download_url = unquote(download_url_encoded)\n",
        "    filename = urlparse(download_url).path\n",
        "    destination_path = os.path.join(KAGGLE_INPUT_PATH, directory)\n",
        "    try:\n",
        "        with urlopen(download_url) as fileres, NamedTemporaryFile() as tfile:\n",
        "            total_length = fileres.headers['content-length']\n",
        "            print(f'Downloading {directory}, {total_length} bytes compressed')\n",
        "            dl = 0\n",
        "            data = fileres.read(CHUNK_SIZE)\n",
        "            while len(data) > 0:\n",
        "                dl += len(data)\n",
        "                tfile.write(data)\n",
        "                done = int(50 * dl / int(total_length))\n",
        "                sys.stdout.write(f\"\\r[{'=' * done}{' ' * (50-done)}] {dl} bytes downloaded\")\n",
        "                sys.stdout.flush()\n",
        "                data = fileres.read(CHUNK_SIZE)\n",
        "            if filename.endswith('.zip'):\n",
        "              with ZipFile(tfile) as zfile:\n",
        "                zfile.extractall(destination_path)\n",
        "            else:\n",
        "              with tarfile.open(tfile.name) as tarfile:\n",
        "                tarfile.extractall(destination_path)\n",
        "            print(f'\\nDownloaded and uncompressed: {directory}')\n",
        "    except HTTPError as e:\n",
        "        print(f'Failed to load (likely expired) {download_url} to path {destination_path}')\n",
        "        continue\n",
        "    except OSError as e:\n",
        "        print(f'Failed to load {download_url} to path {destination_path}')\n",
        "        continue\n",
        "\n",
        "print('Data source import complete.')\n"
      ],
      "metadata": {
        "id": "Jwh2YLqX1tCb"
      },
      "cell_type": "code",
      "outputs": [],
      "execution_count": null
    },
    {
      "cell_type": "code",
      "source": [
        "# This Python 3 environment comes with many helpful analytics libraries installed\n",
        "# It is defined by the kaggle/python Docker image: https://github.com/kaggle/docker-python\n",
        "# For example, here's several helpful packages to load\n",
        "\n",
        "import numpy as np # linear algebra\n",
        "import pandas as pd # data processing, CSV file I/O (e.g. pd.read_csv)\n",
        "\n",
        "# Input data files are available in the read-only \"../input/\" directory\n",
        "# For example, running this (by clicking run or pressing Shift+Enter) will list all files under the input directory\n",
        "\n",
        "import os\n",
        "for dirname, _, filenames in os.walk('/kaggle/input'):\n",
        "    for filename in filenames:\n",
        "        print(os.path.join(dirname, filename))\n",
        "\n",
        "# You can write up to 20GB to the current directory (/kaggle/working/) that gets preserved as output when you create a version using \"Save & Run All\"\n",
        "# You can also write temporary files to /kaggle/temp/, but they won't be saved outside of the current session"
      ],
      "metadata": {
        "_uuid": "8f2839f25d086af736a60e9eeb907d3b93b6e0e5",
        "_cell_guid": "b1076dfc-b9ad-4769-8c92-a6c4dae69d19",
        "execution": {
          "iopub.status.busy": "2024-04-17T15:31:07.102081Z",
          "iopub.execute_input": "2024-04-17T15:31:07.102454Z",
          "iopub.status.idle": "2024-04-17T15:31:08.223699Z",
          "shell.execute_reply.started": "2024-04-17T15:31:07.102426Z",
          "shell.execute_reply": "2024-04-17T15:31:08.222418Z"
        },
        "trusted": true,
        "id": "Noe276ud1tCg",
        "outputId": "ab72c398-41c1-4f86-efa2-61b74da4e454"
      },
      "execution_count": null,
      "outputs": [
        {
          "name": "stdout",
          "text": "/kaggle/input/new-york-city-taxi-fare-prediction/train.csv\n",
          "output_type": "stream"
        }
      ]
    },
    {
      "cell_type": "code",
      "source": [
        "import matplotlib.pyplot as plt\n",
        "import seaborn as sns\n",
        "import statsmodels.api as sm"
      ],
      "metadata": {
        "execution": {
          "iopub.status.busy": "2024-04-17T15:31:08.225845Z",
          "iopub.execute_input": "2024-04-17T15:31:08.226831Z",
          "iopub.status.idle": "2024-04-17T15:31:11.472344Z",
          "shell.execute_reply.started": "2024-04-17T15:31:08.226772Z",
          "shell.execute_reply": "2024-04-17T15:31:11.471159Z"
        },
        "trusted": true,
        "id": "C613gZF_1tCi"
      },
      "execution_count": null,
      "outputs": []
    },
    {
      "cell_type": "code",
      "source": [
        "train_data = pd.read_csv('/kaggle/input/new-york-city-taxi-fare-prediction/train.csv')"
      ],
      "metadata": {
        "execution": {
          "iopub.status.busy": "2024-04-17T15:31:11.473951Z",
          "iopub.execute_input": "2024-04-17T15:31:11.47454Z",
          "iopub.status.idle": "2024-04-17T15:31:11.671834Z",
          "shell.execute_reply.started": "2024-04-17T15:31:11.4745Z",
          "shell.execute_reply": "2024-04-17T15:31:11.670609Z"
        },
        "trusted": true,
        "id": "y-iRrxjJ1tCj"
      },
      "execution_count": null,
      "outputs": []
    },
    {
      "cell_type": "code",
      "source": [
        "train_data.head(10)"
      ],
      "metadata": {
        "execution": {
          "iopub.status.busy": "2024-04-17T15:31:11.674438Z",
          "iopub.execute_input": "2024-04-17T15:31:11.674804Z",
          "iopub.status.idle": "2024-04-17T15:31:11.698941Z",
          "shell.execute_reply.started": "2024-04-17T15:31:11.674758Z",
          "shell.execute_reply": "2024-04-17T15:31:11.697874Z"
        },
        "trusted": true,
        "id": "xi_3WfK31tCk",
        "outputId": "d83fa978-5cf5-4910-9452-9e0d53f42558"
      },
      "execution_count": null,
      "outputs": [
        {
          "execution_count": 5,
          "output_type": "execute_result",
          "data": {
            "text/plain": "                             key  fare_amount          pickup_datetime  \\\n0    2009-06-15 17:26:21.0000001          4.5  2009-06-15 17:26:21 UTC   \n1    2010-01-05 16:52:16.0000002         16.9  2010-01-05 16:52:16 UTC   \n2   2011-08-18 00:35:00.00000049          5.7  2011-08-18 00:35:00 UTC   \n3    2012-04-21 04:30:42.0000001          7.7  2012-04-21 04:30:42 UTC   \n4  2010-03-09 07:51:00.000000135          5.3  2010-03-09 07:51:00 UTC   \n5    2011-01-06 09:50:45.0000002         12.1  2011-01-06 09:50:45 UTC   \n6    2012-11-20 20:35:00.0000001          7.5  2012-11-20 20:35:00 UTC   \n7   2012-01-04 17:22:00.00000081         16.5  2012-01-04 17:22:00 UTC   \n8  2012-12-03 13:10:00.000000125          9.0  2012-12-03 13:10:00 UTC   \n9   2009-09-02 01:11:00.00000083          8.9  2009-09-02 01:11:00 UTC   \n\n   pickup_longitude  pickup_latitude  dropoff_longitude  dropoff_latitude  \\\n0        -73.844311        40.721319         -73.841610         40.712278   \n1        -74.016048        40.711303         -73.979268         40.782004   \n2        -73.982738        40.761270         -73.991242         40.750562   \n3        -73.987130        40.733143         -73.991567         40.758092   \n4        -73.968095        40.768008         -73.956655         40.783762   \n5        -74.000964        40.731630         -73.972892         40.758233   \n6        -73.980002        40.751662         -73.973802         40.764842   \n7        -73.951300        40.774138         -73.990095         40.751048   \n8        -74.006462        40.726713         -73.993078         40.731628   \n9        -73.980658        40.733873         -73.991540         40.758138   \n\n   passenger_count  \n0                1  \n1                1  \n2                2  \n3                1  \n4                1  \n5                1  \n6                1  \n7                1  \n8                1  \n9                2  ",
            "text/html": "<div>\n<style scoped>\n    .dataframe tbody tr th:only-of-type {\n        vertical-align: middle;\n    }\n\n    .dataframe tbody tr th {\n        vertical-align: top;\n    }\n\n    .dataframe thead th {\n        text-align: right;\n    }\n</style>\n<table border=\"1\" class=\"dataframe\">\n  <thead>\n    <tr style=\"text-align: right;\">\n      <th></th>\n      <th>key</th>\n      <th>fare_amount</th>\n      <th>pickup_datetime</th>\n      <th>pickup_longitude</th>\n      <th>pickup_latitude</th>\n      <th>dropoff_longitude</th>\n      <th>dropoff_latitude</th>\n      <th>passenger_count</th>\n    </tr>\n  </thead>\n  <tbody>\n    <tr>\n      <th>0</th>\n      <td>2009-06-15 17:26:21.0000001</td>\n      <td>4.5</td>\n      <td>2009-06-15 17:26:21 UTC</td>\n      <td>-73.844311</td>\n      <td>40.721319</td>\n      <td>-73.841610</td>\n      <td>40.712278</td>\n      <td>1</td>\n    </tr>\n    <tr>\n      <th>1</th>\n      <td>2010-01-05 16:52:16.0000002</td>\n      <td>16.9</td>\n      <td>2010-01-05 16:52:16 UTC</td>\n      <td>-74.016048</td>\n      <td>40.711303</td>\n      <td>-73.979268</td>\n      <td>40.782004</td>\n      <td>1</td>\n    </tr>\n    <tr>\n      <th>2</th>\n      <td>2011-08-18 00:35:00.00000049</td>\n      <td>5.7</td>\n      <td>2011-08-18 00:35:00 UTC</td>\n      <td>-73.982738</td>\n      <td>40.761270</td>\n      <td>-73.991242</td>\n      <td>40.750562</td>\n      <td>2</td>\n    </tr>\n    <tr>\n      <th>3</th>\n      <td>2012-04-21 04:30:42.0000001</td>\n      <td>7.7</td>\n      <td>2012-04-21 04:30:42 UTC</td>\n      <td>-73.987130</td>\n      <td>40.733143</td>\n      <td>-73.991567</td>\n      <td>40.758092</td>\n      <td>1</td>\n    </tr>\n    <tr>\n      <th>4</th>\n      <td>2010-03-09 07:51:00.000000135</td>\n      <td>5.3</td>\n      <td>2010-03-09 07:51:00 UTC</td>\n      <td>-73.968095</td>\n      <td>40.768008</td>\n      <td>-73.956655</td>\n      <td>40.783762</td>\n      <td>1</td>\n    </tr>\n    <tr>\n      <th>5</th>\n      <td>2011-01-06 09:50:45.0000002</td>\n      <td>12.1</td>\n      <td>2011-01-06 09:50:45 UTC</td>\n      <td>-74.000964</td>\n      <td>40.731630</td>\n      <td>-73.972892</td>\n      <td>40.758233</td>\n      <td>1</td>\n    </tr>\n    <tr>\n      <th>6</th>\n      <td>2012-11-20 20:35:00.0000001</td>\n      <td>7.5</td>\n      <td>2012-11-20 20:35:00 UTC</td>\n      <td>-73.980002</td>\n      <td>40.751662</td>\n      <td>-73.973802</td>\n      <td>40.764842</td>\n      <td>1</td>\n    </tr>\n    <tr>\n      <th>7</th>\n      <td>2012-01-04 17:22:00.00000081</td>\n      <td>16.5</td>\n      <td>2012-01-04 17:22:00 UTC</td>\n      <td>-73.951300</td>\n      <td>40.774138</td>\n      <td>-73.990095</td>\n      <td>40.751048</td>\n      <td>1</td>\n    </tr>\n    <tr>\n      <th>8</th>\n      <td>2012-12-03 13:10:00.000000125</td>\n      <td>9.0</td>\n      <td>2012-12-03 13:10:00 UTC</td>\n      <td>-74.006462</td>\n      <td>40.726713</td>\n      <td>-73.993078</td>\n      <td>40.731628</td>\n      <td>1</td>\n    </tr>\n    <tr>\n      <th>9</th>\n      <td>2009-09-02 01:11:00.00000083</td>\n      <td>8.9</td>\n      <td>2009-09-02 01:11:00 UTC</td>\n      <td>-73.980658</td>\n      <td>40.733873</td>\n      <td>-73.991540</td>\n      <td>40.758138</td>\n      <td>2</td>\n    </tr>\n  </tbody>\n</table>\n</div>"
          },
          "metadata": {}
        }
      ]
    },
    {
      "cell_type": "code",
      "source": [
        "df = pd.read_csv('/kaggle/input/new-york-city-taxi-fare-prediction/train.csv')"
      ],
      "metadata": {
        "execution": {
          "iopub.status.busy": "2024-04-17T15:31:11.700295Z",
          "iopub.execute_input": "2024-04-17T15:31:11.701323Z",
          "iopub.status.idle": "2024-04-17T15:31:11.832149Z",
          "shell.execute_reply.started": "2024-04-17T15:31:11.70129Z",
          "shell.execute_reply": "2024-04-17T15:31:11.831017Z"
        },
        "trusted": true,
        "id": "ZE03Pm6m1tCl"
      },
      "execution_count": null,
      "outputs": []
    },
    {
      "cell_type": "code",
      "source": [
        "from sklearn.metrics.pairwise import haversine_distances\n",
        "from math import radians"
      ],
      "metadata": {
        "execution": {
          "iopub.status.busy": "2024-04-17T15:31:11.833709Z",
          "iopub.execute_input": "2024-04-17T15:31:11.834209Z",
          "iopub.status.idle": "2024-04-17T15:31:12.02555Z",
          "shell.execute_reply.started": "2024-04-17T15:31:11.834171Z",
          "shell.execute_reply": "2024-04-17T15:31:12.024485Z"
        },
        "trusted": true,
        "id": "2KdMwWQk1tCm"
      },
      "execution_count": null,
      "outputs": []
    },
    {
      "cell_type": "code",
      "source": [
        "from math import radians, cos, sin, asin, sqrt\n",
        "\n",
        "def haversine(lon1, lat1, lon2, lat2):\n",
        "    lon1, lat1, lon2, lat2 = map(radians, [lon1, lat1, lon2, lat2])\n",
        "    dlon = lon2 - lon1\n",
        "    dlat = lat2 - lat1\n",
        "    a = sin(dlat/2)**2 + cos(lat1) * cos(lat2) * sin(dlon/2)**2\n",
        "    c = 2 * asin(sqrt(a))\n",
        "    r = 6371\n",
        "    return c * r\n",
        "\n",
        "df['distance'] = df.apply(lambda row: haversine(row['pickup_longitude'], row['pickup_latitude'], row['dropoff_longitude'], row['dropoff_latitude']), axis=1)"
      ],
      "metadata": {
        "execution": {
          "iopub.status.busy": "2024-04-17T15:31:12.027118Z",
          "iopub.execute_input": "2024-04-17T15:31:12.027435Z",
          "iopub.status.idle": "2024-04-17T15:31:13.008117Z",
          "shell.execute_reply.started": "2024-04-17T15:31:12.027409Z",
          "shell.execute_reply": "2024-04-17T15:31:13.006894Z"
        },
        "trusted": true,
        "id": "1IySHVx81tCn"
      },
      "execution_count": null,
      "outputs": []
    },
    {
      "cell_type": "code",
      "source": [
        "from sklearn.model_selection import train_test_split\n",
        "from sklearn.linear_model import LinearRegression\n",
        "from sklearn.metrics import mean_squared_error"
      ],
      "metadata": {
        "execution": {
          "iopub.status.busy": "2024-04-17T15:31:13.00927Z",
          "iopub.execute_input": "2024-04-17T15:31:13.00959Z",
          "iopub.status.idle": "2024-04-17T15:31:13.119445Z",
          "shell.execute_reply.started": "2024-04-17T15:31:13.009564Z",
          "shell.execute_reply": "2024-04-17T15:31:13.118618Z"
        },
        "trusted": true,
        "id": "AaxuqO6E1tCo"
      },
      "execution_count": null,
      "outputs": []
    },
    {
      "cell_type": "code",
      "source": [
        "print(df[['pickup_latitude', 'pickup_longitude', 'dropoff_latitude', 'dropoff_longitude', 'distance']].head())"
      ],
      "metadata": {
        "execution": {
          "iopub.status.busy": "2024-04-17T15:31:13.120813Z",
          "iopub.execute_input": "2024-04-17T15:31:13.121476Z",
          "iopub.status.idle": "2024-04-17T15:31:13.136263Z",
          "shell.execute_reply.started": "2024-04-17T15:31:13.121445Z",
          "shell.execute_reply": "2024-04-17T15:31:13.13535Z"
        },
        "trusted": true,
        "id": "0PnHTHv61tCp",
        "outputId": "24fc92db-38cc-4c2e-c660-aa685b6b112f"
      },
      "execution_count": null,
      "outputs": [
        {
          "name": "stdout",
          "text": "   pickup_latitude  pickup_longitude  dropoff_latitude  dropoff_longitude  \\\n0        40.721319        -73.844311         40.712278         -73.841610   \n1        40.711303        -74.016048         40.782004         -73.979268   \n2        40.761270        -73.982738         40.750562         -73.991242   \n3        40.733143        -73.987130         40.758092         -73.991567   \n4        40.768008        -73.968095         40.783762         -73.956655   \n\n   distance  \n0  1.030764  \n1  8.450134  \n2  1.389525  \n3  2.799270  \n4  1.999157  \n",
          "output_type": "stream"
        }
      ]
    },
    {
      "cell_type": "code",
      "source": [
        "x = df['distance'].values.reshape(-1, 1)\n",
        "y = df['fare_amount']\n",
        "\n",
        "x_train, x_test, y_train, y_test = train_test_split(x, y, test_size=0.2, random_state=42)\n",
        "model = LinearRegression()\n",
        "model.fit(x_train, y_train)\n",
        "\n",
        "y_pred = model.predict(x_test)"
      ],
      "metadata": {
        "execution": {
          "iopub.status.busy": "2024-04-17T15:31:13.1387Z",
          "iopub.execute_input": "2024-04-17T15:31:13.13958Z",
          "iopub.status.idle": "2024-04-17T15:31:13.170744Z",
          "shell.execute_reply.started": "2024-04-17T15:31:13.139545Z",
          "shell.execute_reply": "2024-04-17T15:31:13.169537Z"
        },
        "trusted": true,
        "id": "IYT4pbUA1tCq"
      },
      "execution_count": null,
      "outputs": []
    },
    {
      "cell_type": "code",
      "source": [
        "rmse = np.sqrt(mean_squared_error(y_test, y_pred))\n",
        "print(f'Root Mean Squared Error: {rmse}')"
      ],
      "metadata": {
        "execution": {
          "iopub.status.busy": "2024-04-17T15:37:00.030044Z",
          "iopub.execute_input": "2024-04-17T15:37:00.031407Z",
          "iopub.status.idle": "2024-04-17T15:37:00.03908Z",
          "shell.execute_reply.started": "2024-04-17T15:37:00.031352Z",
          "shell.execute_reply": "2024-04-17T15:37:00.038163Z"
        },
        "trusted": true,
        "id": "PXa0l-t-1tCq",
        "outputId": "d2259954-af51-49e1-9299-9b95b28a40c8"
      },
      "execution_count": null,
      "outputs": [
        {
          "name": "stdout",
          "text": "Root Mean Squared Error: 9.64232040926014\n",
          "output_type": "stream"
        }
      ]
    },
    {
      "cell_type": "code",
      "source": [
        "mape = np.mean(np.abs((y_test - y_pred)/ y_test)) * 100\n",
        "print(f'Mean Absolute Percentage Error (MAPE): {mape}%')"
      ],
      "metadata": {
        "execution": {
          "iopub.status.busy": "2024-04-17T15:48:15.181686Z",
          "iopub.execute_input": "2024-04-17T15:48:15.182128Z",
          "iopub.status.idle": "2024-04-17T15:48:15.190204Z",
          "shell.execute_reply.started": "2024-04-17T15:48:15.182097Z",
          "shell.execute_reply": "2024-04-17T15:48:15.188731Z"
        },
        "trusted": true,
        "id": "P_sAWg081tCr",
        "outputId": "d72ce2a3-2ebf-45bd-8868-f5bcf1c0cf6a"
      },
      "execution_count": null,
      "outputs": [
        {
          "name": "stdout",
          "text": "Mean Absolute Percentage Error (MAPE): 66.14411167613181%\n",
          "output_type": "stream"
        }
      ]
    }
  ]
}